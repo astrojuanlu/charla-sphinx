{
 "cells": [
  {
   "cell_type": "markdown",
   "id": "1d964b9a",
   "metadata": {
    "slideshow": {
     "slide_type": "slide"
    }
   },
   "source": [
    "<header style=\"background-image: url('img/typewriter-801921_640.jpg'); background-size: cover; padding: 50px 0;font-size: 1.5em;background-repeat: no-repeat;\">\n",
    "  <div style=\"padding: 10px 25px; background-color: #fff9 !important;\">\n",
    "  <h1 style=\"color: black;text-shadow: #fff 5px 5px 0px; margin-bottom: 2em\">Documenta tu proyecto<br/>con Markdown, Sphinx,<br/>y Read the Docs</h1>\n",
    "  <h2 style=\"text-align: right;font-size: 1em;\">Juan Luis Cano Rodríguez &lt;juanlu@readthedocs.org&gt;<br>2021-08-27, PyCon Latam @ online</h2>\n",
    "  </div>\n",
    "  </header>"
   ]
  },
  {
   "cell_type": "markdown",
   "id": "9d95b125",
   "metadata": {
    "slideshow": {
     "slide_type": "notes"
    }
   },
   "source": [
    "> En esta charla veremos cómo documentar nuestros proyectos usando Sphinx, la herramienta utilizada para la propia documentación de Python y muchos otros proyectos más. Veremos cómo crear un proyecto desde cero, cómo escribir documentación narrativa, y también cómo generar de manera automática la referencia de la API de nuestro código. Para ello utilizaremos MyST, un nuevo dialecto de CommonMark compatible con Sphinx y que nos trae toda la potencia de reStructuredText, con la familiaridad de Markdown. Finalmente, publicaremos nuestro proyecto en Read the Docs, un servicio online de alojamiento para documentación.\n",
    "\n",
    "11:15-11:55 (40 minutos)\n",
    "\n",
    "1. Qué es Sphinx (5m, +5m)\n",
    "\n",
    "SSG, etc\n",
    "\n",
    "2. Creando nuestro primer proyecto Sphinx (10m, +15m)\n",
    "\n",
    "Tutorial introduction, basic project scaffolding with sphinx-quickstart, explanation of the different files that were created.\n",
    "\n",
    "3. De Markdown a HTML (10m, +25m)\n",
    "\n",
    "First steps writing prose documentation in [MyST](https://myst-parser.readthedocs.io/), a flavor of Markdown compatible with Sphinx that adds roles and directives from reStructuredText. Building the HTML documentation.\n",
    "Adding cross references to other pages of the documentation.\n",
    "\n",
    "4. Personalizando Sphinx (5m, +30m)\n",
    "\n",
    "furo to use different HTML themes.\n",
    "\n",
    "5. Documentación a partir de _docstrings_ de Python (5m, +35m)\n",
    "\n",
    "autodoc extension, using autodoc to integrate docs from Python docstrings.\n",
    "\n",
    "6. Publicando en _Read the Docs_ (5m, +40m)\n",
    "\n",
    "Creating a project on Read the Docs for automatic deployment of the documentation. Enabling pull request reviews.\n",
    "\n",
    "7. Preguntas"
   ]
  },
  {
   "cell_type": "markdown",
   "id": "8d2e83fb",
   "metadata": {
    "slideshow": {
     "slide_type": "slide"
    }
   },
   "source": [
    "# Índice\n",
    "\n",
    "1. Qué es Sphinx\n",
    "2. Creando nuestro primer proyecto Sphinx\n",
    "3. De Markdown a HTML\n",
    "4. Personalizando Sphinx\n",
    "5. Documentación a partir de _docstrings_ de Python\n",
    "6. Publicando en _Read the Docs_\n",
    "7. Preguntas"
   ]
  },
  {
   "cell_type": "markdown",
   "id": "78f82a4b",
   "metadata": {
    "slideshow": {
     "slide_type": "slide"
    }
   },
   "source": [
    "# ¿Quién soy yo?\n",
    "\n",
    "![Juanlu @ UIS](img/juanl-uis.jpg)\n",
    "\n",
    "* **Ingeniero Aeronáutico** y pythonista autodidacta de Madrid, España 🇪🇸\n",
    "* **Defensor del Desarrollador** (_Developer Advocate_) en **Read the Docs** 🥑\n",
    "* **Socio fundador y ex-presidente** de la Asociación Python España y organizador de PyConES por 7 años 🐍\n",
    "* **Colaborador** en proyectos de Python Científico: NumPy, SciPy, conda, astropy, poliastro, memory-profiler...\n",
    "* **Profesor asociado** en **IE** y **ESADE** de Python para Big Data\n",
    "* Amante del código abierto y el hard rock 🤘"
   ]
  },
  {
   "cell_type": "markdown",
   "id": "e6ac8293",
   "metadata": {
    "slideshow": {
     "slide_type": "slide"
    }
   },
   "source": [
    "# 1. ¿Qué es Sphinx?\n",
    "\n",
    "![Sphinx logo](img/sphinx-logo.png)\n",
    "\n",
    "> Sphinx is a tool that makes it easy to create intelligent and beautiful documentation\n",
    "\n",
    "https://www.sphinx-doc.org/"
   ]
  },
  {
   "cell_type": "markdown",
   "id": "510f91e5",
   "metadata": {
    "slideshow": {
     "slide_type": "fragment"
    }
   },
   "source": [
    "- Sphinx lee **archivos fuente** y genera una **salida**\n",
    "- Los archivos fuente pueden ser reStructuredText, **Markdown**, **código Python**, notebooks de Jupyter, ...\n",
    "- La **salida** puede ser **HTML**, PDF, _man pages_, EPUB, ..."
   ]
  },
  {
   "cell_type": "markdown",
   "id": "8de8fdf7",
   "metadata": {
    "slideshow": {
     "slide_type": "fragment"
    }
   },
   "source": [
    "- Por tanto, Sphinx puede también considerarse un **generador de sitios estático** (SSG)!"
   ]
  },
  {
   "cell_type": "markdown",
   "id": "1069fab3",
   "metadata": {
    "slideshow": {
     "slide_type": "subslide"
    }
   },
   "source": [
    "Algunas funcionalidades interesantes:\n",
    "\n",
    "- Multitud de **formatos de salida** diferentes\n",
    "- **Referencias cruzadas** y enlaces automáticos para funciones, clases, figuras, términos de glosario...\n",
    "- **Estructura jerárquica**: definición del árbol de documentos, con enlaces automáticos a antecesores y sucesores\n",
    "- **Numeración automática**\n",
    "- **Manejo de código** y resaltado de sintaxis\n",
    "- **Extensible**! https://sphinx-extensions.readthedocs.io/"
   ]
  },
  {
   "cell_type": "markdown",
   "id": "2139330b",
   "metadata": {
    "slideshow": {
     "slide_type": "slide"
    }
   },
   "source": [
    "# Creando nuestro primer proyecto Sphinx\n",
    "\n",
    "**Objetivo**: Documentar una pequeña biblioteca Python, disponible en https://github.com/astrojuanlu/charla-sphinx/tree/main/code\n",
    "\n",
    "![README de Lumache](img/lumache-readme.png)"
   ]
  },
  {
   "cell_type": "markdown",
   "id": "02604bf0",
   "metadata": {
    "slideshow": {
     "slide_type": "subslide"
    }
   },
   "source": [
    "# Dentro demo!"
   ]
  }
 ],
 "metadata": {
  "celltoolbar": "Slideshow",
  "kernelspec": {
   "display_name": "Python 3 (ipykernel)",
   "language": "python",
   "name": "python3"
  },
  "language_info": {
   "codemirror_mode": {
    "name": "ipython",
    "version": 3
   },
   "file_extension": ".py",
   "mimetype": "text/x-python",
   "name": "python",
   "nbconvert_exporter": "python",
   "pygments_lexer": "ipython3",
   "version": "3.9.6"
  }
 },
 "nbformat": 4,
 "nbformat_minor": 5
}
